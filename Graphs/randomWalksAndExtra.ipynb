{
 "metadata": {
  "name": ""
 },
 "nbformat": 3,
 "nbformat_minor": 0,
 "worksheets": [
  {
   "cells": [
    {
     "cell_type": "code",
     "collapsed": false,
     "input": [
      "a = [ [1,2,3], [4,5,6], [7,8,9] ]\n",
      "print(a)"
     ],
     "language": "python",
     "metadata": {},
     "outputs": [
      {
       "output_type": "stream",
       "stream": "stdout",
       "text": [
        "[[1, 2, 3], [4, 5, 6], [7, 8, 9]]\n"
       ]
      }
     ],
     "prompt_number": 2
    },
    {
     "cell_type": "code",
     "collapsed": false,
     "input": [
      "import numpy as np\n",
      "# The shape attribute only exists if a is a numpy array\n",
      "a = np.array(a)\n",
      "print(a.shape)"
     ],
     "language": "python",
     "metadata": {},
     "outputs": [
      {
       "output_type": "stream",
       "stream": "stdout",
       "text": [
        "(3, 3)\n"
       ]
      }
     ],
     "prompt_number": 3
    },
    {
     "cell_type": "code",
     "collapsed": false,
     "input": [
      "# To see how variables work in python\n",
      "def list_changer(input_list):\n",
      "    # input_list points at the same object as input_list\n",
      "    input_list[0] = 10\n",
      "    # changing a single value changes both objects because they are the same\n",
      "    print(input_list)\n",
      "    input_list = [i for i in range(10)]\n",
      "    # input_list is reassigned to a new object but the original object is still pointed to by the original input_list\n",
      "    print(input_list)\n",
      "    input_list[0] = 10\n",
      "    # this just changes the new list\n",
      "    print(input_list)\n",
      "# Variable instantiated\n",
      "input_list = [5, 5, 5]\n",
      "# Do function call on input_list\n",
      "list_changer(input_list)\n",
      "# input_list has changed because the \n",
      "print(input_list)"
     ],
     "language": "python",
     "metadata": {},
     "outputs": [
      {
       "output_type": "stream",
       "stream": "stdout",
       "text": [
        "[10, 5, 5]\n",
        "[0, 1, 2, 3, 4, 5, 6, 7, 8, 9]\n",
        "[10, 1, 2, 3, 4, 5, 6, 7, 8, 9]\n",
        "[10, 5, 5]\n"
       ]
      }
     ],
     "prompt_number": 4
    },
    {
     "cell_type": "code",
     "collapsed": false,
     "input": [
      "a = range(10)\n",
      "# range is now its own type so you cannot treat exactly like a list, see?\n",
      "print(a)"
     ],
     "language": "python",
     "metadata": {},
     "outputs": [
      {
       "output_type": "stream",
       "stream": "stdout",
       "text": [
        "[0, 1, 2, 3, 4, 5, 6, 7, 8, 9]\n"
       ]
      }
     ],
     "prompt_number": 5
    },
    {
     "cell_type": "code",
     "collapsed": false,
     "input": [
      "import numpy as np\n",
      "num_walkers = 5\n",
      "num_steps = 10\n",
      "p = .5\n",
      "\n",
      "def random_walks(num_walkers, num_steps, p):\n",
      "    step_matrix = np.random.randint(2, size=(num_walkers, num_steps))\n",
      "    step_matrix[step_matrix < p] = -1\n",
      "    #print(step_matrix)\n",
      "\n",
      "    disp_matrix = np.zeros((num_walkers, num_steps+1))\n",
      "    positions = np.zeros((num_walkers, num_steps+1))\n",
      "    for i in range(num_steps):\n",
      "        positions[:, i+1] = step_matrix[:, i] + positions[:, i]\n",
      "    # print(positions)\n",
      "    return step_matrix, positions\n",
      "\n",
      "random_walks(num_walkers, num_steps, p)"
     ],
     "language": "python",
     "metadata": {},
     "outputs": [
      {
       "metadata": {},
       "output_type": "pyout",
       "prompt_number": 6,
       "text": [
        "(array([[-1, -1,  1,  1, -1, -1, -1,  1,  1, -1],\n",
        "       [-1,  1, -1,  1, -1,  1,  1, -1,  1, -1],\n",
        "       [ 1, -1, -1, -1,  1,  1,  1,  1, -1,  1],\n",
        "       [-1, -1, -1, -1,  1, -1,  1, -1,  1, -1],\n",
        "       [-1,  1,  1,  1, -1, -1, -1, -1,  1, -1]]),\n",
        " array([[ 0., -1., -2., -1.,  0., -1., -2., -3., -2., -1., -2.],\n",
        "       [ 0., -1.,  0., -1.,  0., -1.,  0.,  1.,  0.,  1.,  0.],\n",
        "       [ 0.,  1.,  0., -1., -2., -1.,  0.,  1.,  2.,  1.,  2.],\n",
        "       [ 0., -1., -2., -3., -4., -3., -4., -3., -4., -3., -4.],\n",
        "       [ 0., -1.,  0.,  1.,  2.,  1.,  0., -1., -2., -1., -2.]]))"
       ]
      }
     ],
     "prompt_number": 6
    },
    {
     "cell_type": "code",
     "collapsed": false,
     "input": [
      "import numpy as np\n",
      "def random_walks2D(num_walkers, num_steps):\n",
      "    step_matrix = np.zeros((num_walkers, num_steps))\n",
      "    step_options = [-2, -1, 1, 2]\n",
      "    for i, row in enumerate(step_matrix):\n",
      "        for j, col in enumerate(row):\n",
      "            step_matrix[i, j] = np.random.choice(step_options) #, 1, p=[.25,.25,.25,.25])\n",
      "    #step_matrix = np.random.randint(2, size=(num_walkers*2, num_steps/2))\n",
      "    #step_matrix[step_matrix < p] = -1\n",
      "    \n",
      "    matrixX = np.zeros((num_walkers, num_steps+1))\n",
      "    matrixY = np.zeros((num_walkers, num_steps+1))\n",
      "    \n",
      "    for i in range(num_steps):\n",
      "        for j in range(num_walkers):\n",
      "            if step_matrix[j, i]%2 == 0:\n",
      "                matrixX[j, i+1] = step_matrix[j, i]/2 + matrixX[j, i]\n",
      "                matrixY[j, i+1] = matrixY[j, i]\n",
      "            else:\n",
      "                matrixY[j, i+1] = step_matrix[j, i] + matrixY[j, i]\n",
      "                matrixX[j, i+1] = matrixX[j, i]\n",
      "    return matrixX, matrixY"
     ],
     "language": "python",
     "metadata": {},
     "outputs": [],
     "prompt_number": 7
    },
    {
     "cell_type": "code",
     "collapsed": false,
     "input": [
      "# %matplotlib inline\n",
      "import matplotlib.pyplot as plt\n",
      "n_walker = 2\n",
      "n_steps = 10000\n",
      "posx, posy = random_walks2D(n_walker, n_steps)\n",
      "fig,ax = plt.subplots()\n",
      "for walker in range(n_walker):\n",
      "    color = np.random.rand(3, 1)\n",
      "    ax.scatter(posx[walker, -1], posy[walker, -1], color='red', s=150, zorder=3)\n",
      "    ax.plot(posx[walker,:], posy[walker,:], '-o', color=color, alpha=.5)\n",
      "ax.scatter(0, 0, color='green', s=150, zorder=3)\n",
      "plt.show()"
     ],
     "language": "python",
     "metadata": {},
     "outputs": [],
     "prompt_number": 8
    },
    {
     "cell_type": "code",
     "collapsed": false,
     "input": [],
     "language": "python",
     "metadata": {},
     "outputs": [],
     "prompt_number": 8
    },
    {
     "cell_type": "code",
     "collapsed": false,
     "input": [],
     "language": "python",
     "metadata": {},
     "outputs": [],
     "prompt_number": 8
    },
    {
     "cell_type": "code",
     "collapsed": false,
     "input": [],
     "language": "python",
     "metadata": {},
     "outputs": []
    }
   ],
   "metadata": {}
  }
 ]
}