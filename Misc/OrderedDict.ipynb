{
 "metadata": {
  "name": ""
 },
 "nbformat": 3,
 "nbformat_minor": 0,
 "worksheets": [
  {
   "cells": [
    {
     "cell_type": "code",
     "collapsed": false,
     "input": [
      "from collections import OrderedDict\n",
      "d = OrderedDict( [('id', ('INT', 'NOT NULL AUTO_INCREMENT')), ('unixtime', ('BIGINT', 'NOT NULL')), ('lat', ('DOUBLE', 'NOT NULL'))] )\n",
      "cols = ''\n",
      "for k, v in d.iteritems():\n",
      "    cols = cols + ', {} {} {}'.format(k, v[0], v[1])\n",
      "table_name = 'obs'\n",
      "begin = \"CREATE TABLE \" + table_name + \" (\"\n",
      "\n",
      "sql = begin + cols[2:] + \")\"\n",
      "print sql"
     ],
     "language": "python",
     "metadata": {},
     "outputs": [
      {
       "output_type": "stream",
       "stream": "stdout",
       "text": [
        "CREATE TABLE obs (id INT NOT NULL AUTO_INCREMENT, unixtime BIGINT NOT NULL, lat DOUBLE NOT NULL)\n"
       ]
      }
     ],
     "prompt_number": 4
    },
    {
     "cell_type": "code",
     "collapsed": false,
     "input": [
      "for i in d:\n",
      "    print i,"
     ],
     "language": "python",
     "metadata": {},
     "outputs": [
      {
       "output_type": "stream",
       "stream": "stdout",
       "text": [
        "id unixtime lat\n"
       ]
      }
     ],
     "prompt_number": 5
    }
   ],
   "metadata": {}
  }
 ]
}