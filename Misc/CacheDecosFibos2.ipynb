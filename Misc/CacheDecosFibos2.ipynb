{
 "metadata": {
  "name": ""
 },
 "nbformat": 3,
 "nbformat_minor": 0,
 "worksheets": [
  {
   "cells": [
    {
     "cell_type": "code",
     "collapsed": false,
     "input": [
      "import numpy as np\n",
      "def degree_list(adj):\n",
      "    return np.sum(adj, axis=1)\n",
      "def nodes_of_degreev2(adj, n):\n",
      "    deg = degree_list(adj)\n",
      "    # list comprehension\\n\"\n",
      "    return [i for i, v in enumerate(deg) if v == n]"
     ],
     "language": "python",
     "metadata": {},
     "outputs": [],
     "prompt_number": 2
    },
    {
     "cell_type": "code",
     "collapsed": false,
     "input": [
      "def memoize(f):\n",
      "    cache = {}\n",
      "    def decorated_func(*args):\n",
      "        # print('args:',args)   no additional args were used but they would be supported if they were\n",
      "        if args in cache:\n",
      "            # print(cache[args])\n",
      "            return cache[args]\n",
      "        else:\n",
      "            cache[args] = f(*args)\n",
      "            return cache[args]\n",
      "    return decorated_func"
     ],
     "language": "python",
     "metadata": {},
     "outputs": [],
     "prompt_number": 3
    },
    {
     "cell_type": "code",
     "collapsed": false,
     "input": [
      "@memoize\n",
      "def fib(n, m):\n",
      "    j = m\n",
      "    return n if n < 2 else fib(n-1, j) + fib(n-2, j)"
     ],
     "language": "python",
     "metadata": {},
     "outputs": [],
     "prompt_number": 6
    },
    {
     "cell_type": "code",
     "collapsed": false,
     "input": [
      "cache = {}\n",
      "def fib_c(n):\n",
      "    if n in cache:\n",
      "        return cache[n]\n",
      "    else:\n",
      "        cache[n] = n if n < 2 else fib_c(n-1) + fib_c(n-2)\n",
      "        return cache[n]"
     ],
     "language": "python",
     "metadata": {},
     "outputs": [],
     "prompt_number": 7
    },
    {
     "cell_type": "code",
     "collapsed": false,
     "input": [
      "def fib_iter(n):\n",
      "    a, b = 1, 1\n",
      "    for i in range(n):\n",
      "        a, b = b, a + b\n",
      "    return a"
     ],
     "language": "python",
     "metadata": {},
     "outputs": [],
     "prompt_number": 13
    },
    {
     "cell_type": "code",
     "collapsed": false,
     "input": [
      "import time\n",
      "n = 50\n",
      "# Compares time to run diff fib methods\\n\",\n",
      "# time.time() returns the current time\n",
      "tic = time.time()\n",
      "print(fib_c(n))\n",
      "print(time.time()-tic)\n",
      "\n",
      "tic = time.time()\n",
      "print(fib_iter(n-1))\n",
      "print(time.time()-tic)\n",
      "\n",
      "tic = time.time()\n",
      "print(fib(n, 0))\n",
      "print(time.time()-tic)"
     ],
     "language": "python",
     "metadata": {},
     "outputs": [
      {
       "output_type": "stream",
       "stream": "stdout",
       "text": [
        "12586269025\n",
        "0.00016188621521\n",
        "12586269025\n",
        "0.000120878219604\n",
        "12586269025\n",
        "0.000164031982422\n"
       ]
      }
     ],
     "prompt_number": 16
    },
    {
     "cell_type": "code",
     "collapsed": false,
     "input": [],
     "language": "python",
     "metadata": {},
     "outputs": [],
     "prompt_number": 16
    },
    {
     "cell_type": "code",
     "collapsed": false,
     "input": [],
     "language": "python",
     "metadata": {},
     "outputs": []
    }
   ],
   "metadata": {}
  }
 ]
}