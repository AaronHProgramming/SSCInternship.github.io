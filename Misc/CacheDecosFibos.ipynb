{
 "cells": [
  {
   "cell_type": "code",
   "execution_count": 27,
   "metadata": {
    "collapsed": true
   },
   "outputs": [],
   "source": [
    "import sys\n",
    "sys.path.append('NodesWithDegreeN')"
   ]
  },
  {
   "cell_type": "code",
   "execution_count": 28,
   "metadata": {
    "collapsed": false
   },
   "outputs": [],
   "source": [
    "import NodesWithDegreeN"
   ]
  },
  {
   "cell_type": "code",
   "execution_count": 29,
   "metadata": {
    "collapsed": false
   },
   "outputs": [
    {
     "name": "stdout",
     "output_type": "stream",
     "text": [
      "[[0, 1, 1, 1], [1, 0, 1, 1], [1, 1, 0, 1], [1, 1, 1, 0]]\n"
     ]
    }
   ],
   "source": [
    "# Convert dictionary to matrix \n",
    "d = {0: [1, 2, 3], 1: [0, 2, 3], 2: [0, 1, 3], 3: [0, 1, 2]}\n",
    "print(NodesWithDegreeN.dict_to_adj(d))"
   ]
  },
  {
   "cell_type": "code",
   "execution_count": 30,
   "metadata": {
    "collapsed": false
   },
   "outputs": [
    {
     "name": "stdout",
     "output_type": "stream",
     "text": [
      "[0, 1, 2, 3]\n"
     ]
    }
   ],
   "source": [
    "print(NodesWithDegreeN.nodes_of_degree(d, 3))"
   ]
  },
  {
   "cell_type": "code",
   "execution_count": 31,
   "metadata": {
    "collapsed": false
   },
   "outputs": [
    {
     "ename": "ValueError",
     "evalue": "Size of vector 1=3, size of vector 2=2",
     "output_type": "error",
     "traceback": [
      "\u001b[1;31m---------------------------------------------------------------------------\u001b[0m",
      "\u001b[1;31mValueError\u001b[0m                                Traceback (most recent call last)",
      "\u001b[1;32m<ipython-input-31-b2a6265656df>\u001b[0m in \u001b[0;36m<module>\u001b[1;34m()\u001b[0m\n\u001b[0;32m      4\u001b[0m \u001b[0mv\u001b[0m \u001b[1;33m=\u001b[0m \u001b[1;33m[\u001b[0m\u001b[1;36m0\u001b[0m\u001b[1;33m,\u001b[0m\u001b[1;36m0\u001b[0m\u001b[1;33m,\u001b[0m\u001b[1;36m1\u001b[0m\u001b[1;33m]\u001b[0m\u001b[1;33m\u001b[0m\u001b[0m\n\u001b[0;32m      5\u001b[0m \u001b[0mw\u001b[0m \u001b[1;33m=\u001b[0m \u001b[1;33m[\u001b[0m\u001b[1;36m5\u001b[0m\u001b[1;33m,\u001b[0m\u001b[1;36m5\u001b[0m\u001b[1;33m]\u001b[0m\u001b[1;33m\u001b[0m\u001b[0m\n\u001b[1;32m----> 6\u001b[1;33m \u001b[0mprint\u001b[0m\u001b[1;33m(\u001b[0m\u001b[0mdotProd\u001b[0m\u001b[1;33m.\u001b[0m\u001b[0mdot_product\u001b[0m\u001b[1;33m(\u001b[0m\u001b[0mv\u001b[0m\u001b[1;33m,\u001b[0m\u001b[0mw\u001b[0m\u001b[1;33m)\u001b[0m\u001b[1;33m)\u001b[0m\u001b[1;33m\u001b[0m\u001b[0m\n\u001b[0m\u001b[0;32m      7\u001b[0m \u001b[1;31m# Value Error I raised manually will pop up.\u001b[0m\u001b[1;33m\u001b[0m\u001b[1;33m\u001b[0m\u001b[0m\n",
      "\u001b[1;32m/home/aaron/internship/summerInt/dotProd.py\u001b[0m in \u001b[0;36mdot_product\u001b[1;34m(v, w)\u001b[0m\n",
      "\u001b[1;31mValueError\u001b[0m: Size of vector 1=3, size of vector 2=2"
     ]
    }
   ],
   "source": [
    "sys.path.append('dotProd')\n",
    "import dotProd\n",
    "# size difference means dotProd is  impossible\n",
    "v = [0,0,1]\n",
    "w = [5,5]\n",
    "print(dotProd.dot_product(v,w))\n",
    "# Value Error I raised manually will pop up."
   ]
  },
  {
   "cell_type": "code",
   "execution_count": 32,
   "metadata": {
    "collapsed": true
   },
   "outputs": [],
   "source": [
    "import numpy as np\n",
    "def degree_list(adj):\n",
    "    return np.sum(adj, axis=1)\n",
    "def nodes_of_degreev2(adj, n):\n",
    "    deg = degree_list(adj)\n",
    "    # list comprehension\n",
    "    return [i for i, v in enumerate(deg) if v == n]\n"
   ]
  },
  {
   "cell_type": "code",
   "execution_count": 33,
   "metadata": {
    "collapsed": false
   },
   "outputs": [
    {
     "data": {
      "text/plain": [
       "[0, 1]"
      ]
     },
     "execution_count": 33,
     "metadata": {},
     "output_type": "execute_result"
    }
   ],
   "source": [
    "A = [[0, 1, 1,0], [1,0,1,0], [0,1,0,0],[0,0,0,0]]\n",
    "nodes_of_degreev2(A, 2)"
   ]
  },
  {
   "cell_type": "code",
   "execution_count": 34,
   "metadata": {
    "collapsed": false
   },
   "outputs": [
    {
     "name": "stdout",
     "output_type": "stream",
     "text": [
      "[[63 19]\n",
      " [52 69]\n",
      " [33 30]\n",
      " [28 47]\n",
      " [84 73]]\n"
     ]
    }
   ],
   "source": [
    "#Select a random integer from -5 to 100 for each spot in a 5X2 matrix\n",
    "zzz=np.random.randint(-5, 100, (5,2))\n",
    "print(zzz)"
   ]
  },
  {
   "cell_type": "code",
   "execution_count": 35,
   "metadata": {
    "collapsed": false
   },
   "outputs": [
    {
     "name": "stdout",
     "output_type": "stream",
     "text": [
      "c\n"
     ]
    }
   ],
   "source": [
    "import random\n",
    "l=['a', 'b', 'c']\n",
    "# selects random thing out of the argument\n",
    "print(random.choice(l))"
   ]
  },
  {
   "cell_type": "code",
   "execution_count": 36,
   "metadata": {
    "collapsed": false
   },
   "outputs": [],
   "source": [
    "for x in range(52):\n",
    "    # choose 52, with replacement from 0 - 52 \n",
    "    np.random.choice(range(52))"
   ]
  },
  {
   "cell_type": "code",
   "execution_count": 39,
   "metadata": {
    "collapsed": false
   },
   "outputs": [],
   "source": [
    "# fun with graphing\n",
    "import networkx as nx\n",
    "import matplotlib.pyplot as plt\n",
    "\n",
    "d = {'a':['b', 'c'], 'b':['a'], 'c':['a']}\n",
    "gr = nx.from_dict_of_lists(d)\n",
    "# draws gr on the graph\n",
    "nx.draw(gr)\n",
    "# pops up the graph\n",
    "plt.show()"
   ]
  },
  {
   "cell_type": "markdown",
   "metadata": {},
   "source": [
    "### Playing around with Fibonacci\n",
    "bladibla\n",
    "learned how to create a markdown in ipynb"
   ]
  },
  {
   "cell_type": "markdown",
   "metadata": {},
   "source": [
    "### Decorators ftw!!!"
   ]
  },
  {
   "cell_type": "code",
   "execution_count": 46,
   "metadata": {
    "collapsed": true
   },
   "outputs": [],
   "source": [
    "def memoize(f):\n",
    "    cache = {}\n",
    "    def decorated_func(*args):\n",
    "        # print('args:',args)   no additional args were used but they would be supported if they were\n",
    "        if args in cache:\n",
    "            # print(cache[args])\n",
    "            return cache[args]\n",
    "        else:\n",
    "            cache[args] = f(*args)\n",
    "            return cache[args]\n",
    "    return decorated_func"
   ]
  },
  {
   "cell_type": "code",
   "execution_count": 47,
   "metadata": {
    "collapsed": false
   },
   "outputs": [],
   "source": [
    "@memoize\n",
    "def fib(n, m):\n",
    "    j = m\n",
    "    return n if n < 2 else fib(n-1, j) + fib(n-2, j)"
   ]
  },
  {
   "cell_type": "code",
   "execution_count": 48,
   "metadata": {
    "collapsed": false
   },
   "outputs": [],
   "source": [
    "\n",
    "cache = {}\n",
    "def fib_c(n):\n",
    "    if n in cache:\n",
    "        return cache[n]\n",
    "    else:\n",
    "        cache[n] = n if n < 2 else fib_c(n-1) + fib_c(n-2)\n",
    "        return cache[n]"
   ]
  },
  {
   "cell_type": "code",
   "execution_count": 49,
   "metadata": {
    "collapsed": true
   },
   "outputs": [],
   "source": [
    "def fib_iter(n):\n",
    "    a, b = 1, 1\n",
    "    for i in range(n):\n",
    "        a, b = b, a + b\n",
    "    return a"
   ]
  },
  {
   "cell_type": "code",
   "execution_count": 50,
   "metadata": {
    "collapsed": false
   },
   "outputs": [
    {
     "name": "stdout",
     "output_type": "stream",
     "text": [
      "1548008755920\n",
      "0.00033283233642578125\n",
      "1548008755920\n",
      "0.00024247169494628906\n",
      "1548008755920\n",
      "0.00044226646423339844\n"
     ]
    }
   ],
   "source": [
    "import time\n",
    "n=60\n",
    "\n",
    "# Compares time to run diff fib methods\n",
    "# time.time() returns the current time\n",
    "\n",
    "tic = time.time()\n",
    "print(fib_c(n))\n",
    "print(time.time()-tic)\n",
    "\n",
    "tic = time.time()\n",
    "print(fib_iter(n-1))\n",
    "print(time.time()-tic)\n",
    "\n",
    "tic = time.time()\n",
    "print(fib(n, 0))\n",
    "print(time.time()-tic)"
   ]
  },
  {
   "cell_type": "code",
   "execution_count": 3,
   "metadata": {
    "collapsed": false
   },
   "outputs": [
    {
     "name": "stdout",
     "output_type": "stream",
     "text": [
      "2015-06-09 08:27:55\n"
     ]
    }
   ],
   "source": [
    "s = '2015-06-09 08:27:55'\n",
    "from datetime import datetime\n",
    "# retell it how to present the str\n",
    "d=datetime.strptime(s, '%Y-%m-%d %H:%M:%S')\n",
    "print(d)"
   ]
  }
 ],
 "metadata": {
  "kernelspec": {
   "display_name": "Python 3",
   "language": "python",
   "name": "python3"
  },
  "language_info": {
   "codemirror_mode": {
    "name": "ipython",
    "version": 3
   },
   "file_extension": ".py",
   "mimetype": "text/x-python",
   "name": "python",
   "nbconvert_exporter": "python",
   "pygments_lexer": "ipython3",
   "version": "3.4.3"
  }
 },
 "nbformat": 4,
 "nbformat_minor": 0
}
