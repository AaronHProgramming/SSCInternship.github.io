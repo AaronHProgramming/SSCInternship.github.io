{
 "cells": [
  {
   "cell_type": "code",
   "execution_count": 1,
   "metadata": {
    "collapsed": true
   },
   "outputs": [],
   "source": [
    "# l will be a list\n",
    "def sumList(l):\n",
    "    sum = 0\n",
    "    for x in l:\n",
    "        sum = sum + x\n",
    "    return sum\n"
   ]
  },
  {
   "cell_type": "code",
   "execution_count": 42,
   "metadata": {
    "collapsed": false
   },
   "outputs": [
    {
     "name": "stdout",
     "output_type": "stream",
     "text": [
      "21\n"
     ]
    }
   ],
   "source": [
    "# testing box\n",
    "l = range(0, 7)\n",
    "print sumList(l)"
   ]
  },
  {
   "cell_type": "code",
   "execution_count": 52,
   "metadata": {
    "collapsed": false
   },
   "outputs": [],
   "source": [
    "def smooshList(l):\n",
    "    string = ''\n",
    "    for x in l:\n",
    "        string = string + x\n",
    "    return string"
   ]
  },
  {
   "cell_type": "code",
   "execution_count": 57,
   "metadata": {
    "collapsed": false
   },
   "outputs": [
    {
     "name": "stdout",
     "output_type": "stream",
     "text": [
      "Hello\n"
     ]
    }
   ],
   "source": [
    "l = ['H', 'e', 'l', 'l', 'o',]\n",
    "print smooshList(l)"
   ]
  },
  {
   "cell_type": "code",
   "execution_count": 58,
   "metadata": {
    "collapsed": false
   },
   "outputs": [
    {
     "name": "stdout",
     "output_type": "stream",
     "text": [
      "Hello World\n"
     ]
    }
   ],
   "source": [
    "d = {'key1': ['H', 'e', 'l', 'l', 'o'], 'key2': ['W', 'o', 'r', 'l', 'd']}\n",
    "string = ''\n",
    "string = string + smooshList(d['key1']) + ' '\n",
    "string = string + smooshList(d['key2'])\n",
    "print string"
   ]
  },
  {
   "cell_type": "code",
   "execution_count": 59,
   "metadata": {
    "collapsed": false
   },
   "outputs": [
    {
     "name": "stdout",
     "output_type": "stream",
     "text": [
      "{1: 'a', 2: 'b', 3: 'c', 4: 'd', 5: 'e', 6: 'f', 7: 'g', 8: 'h', 9: 'i', 10: 'j', 11: 'k', 12: 'l', 13: 'm', 14: 'n', 15: 'o', 16: 'p', 17: 'q', 18: 'r', 19: 's', 20: 't', 21: 'u', 22: 'v', 23: 'w', 24: 'x', 25: 'y', 26: 'z'}\n"
     ]
    }
   ],
   "source": [
    "d = {}\n",
    "for x in range(1, 27):\n",
    "    d[x] = chr(96 + x)\n",
    "print d"
   ]
  },
  {
   "cell_type": "code",
   "execution_count": 51,
   "metadata": {
    "collapsed": false
   },
   "outputs": [
    {
     "name": "stdout",
     "output_type": "stream",
     "text": [
      "6\n"
     ]
    }
   ],
   "source": [
    "def factorial(n):\n",
    "    if n == 0:\n",
    "        return 1\n",
    "    else:\n",
    "        return n * factorial(n - 1)\n",
    "print factorial(3)"
   ]
  },
  {
   "cell_type": "code",
   "execution_count": 65,
   "metadata": {
    "collapsed": false
   },
   "outputs": [
    {
     "name": "stdout",
     "output_type": "stream",
     "text": [
      "24\n"
     ]
    }
   ],
   "source": [
    "def factorial_itr(n):\n",
    "    fac = 1\n",
    "    for x in range(1, n + 1):\n",
    "        fac = x * fac\n",
    "    return fac\n",
    "print factorial_itr(4)"
   ]
  },
  {
   "cell_type": "code",
   "execution_count": 133,
   "metadata": {
    "collapsed": false
   },
   "outputs": [
    {
     "name": "stdout",
     "output_type": "stream",
     "text": [
      "5\n",
      "7\n",
      "__main__.ball\n",
      "This is a ball object.\n"
     ]
    }
   ],
   "source": [
    "class ball:\n",
    "    # number = 3\n",
    "    def __init__(self, number=5):\n",
    "        self.number = number\n",
    "    def __str__(self):\n",
    "        string = \"This is a ball object.\"\n",
    "        return string\n",
    "# print ball.number\n",
    "b = ball()\n",
    "print b.number\n",
    "ball.number = 7\n",
    "print ball.number\n",
    "print ball\n",
    "print b"
   ]
  },
  {
   "cell_type": "code",
   "execution_count": 134,
   "metadata": {
    "collapsed": false
   },
   "outputs": [
    {
     "name": "stdout",
     "output_type": "stream",
     "text": [
      "5 7\n"
     ]
    }
   ],
   "source": [
    "# Is the only way to define a variable to instantiate it?\n",
    "# What is going on with ball up there?\n",
    "# Doesn't bouncyBall inherit number?\n",
    "class bouncyBall(ball):\n",
    "    3\n",
    "#     def __init__(self, bounciness = 3):\n",
    "#         #self.number = number\n",
    "#         self.bounciness = bounciness\n",
    "b = bouncyBall()\n",
    "b.bouncyness = 7\n",
    "print b.number, b.bouncyness"
   ]
  },
  {
   "cell_type": "code",
   "execution_count": 118,
   "metadata": {
    "collapsed": false
   },
   "outputs": [],
   "source": [
    "#3"
   ]
  },
  {
   "cell_type": "code",
   "execution_count": 109,
   "metadata": {
    "collapsed": false,
    "scrolled": true
   },
   "outputs": [
    {
     "data": {
      "text/plain": [
       "1339"
      ]
     },
     "execution_count": 109,
     "metadata": {},
     "output_type": "execute_result"
    }
   ],
   "source": [
    "1792921 # Please square root this because I don't know how"
   ]
  },
  {
   "cell_type": "code",
   "execution_count": 2,
   "metadata": {
    "collapsed": false
   },
   "outputs": [
    {
     "name": "stdout",
     "output_type": "stream",
     "text": [
      "no\n"
     ]
    }
   ],
   "source": [
    "list = [2]\n",
    "num = 1000000\n",
    "for x in range(3, num):\n",
    "    if num % list[-1] == 0:\n",
    "        break\n",
    "    isPrime = True\n",
    "    if isPrime == True:\n",
    "        for prime in list:\n",
    "            if x % prime == 0:\n",
    "                isPrime = False\n",
    "            if isPrime == False or x < prime**2:\n",
    "                break\n",
    "        if isPrime:\n",
    "            list.append(x)"
   ]
  },
  {
   "cell_type": "code",
   "execution_count": 6,
   "metadata": {
    "collapsed": false
   },
   "outputs": [
    {
     "name": "stdout",
     "output_type": "stream",
     "text": [
      "2\n",
      "3\n",
      "done\n"
     ]
    }
   ],
   "source": [
    "def list_of_primes():\n",
    "    lst = [2, 3]\n",
    "    print 2\n",
    "    print 3\n",
    "    next_prime = 3\n",
    "    while True:\n",
    "        next_prime += 2\n",
    "        isPrime = True\n",
    "        if isPrime == True:\n",
    "            for prime in lst:\n",
    "                if next_prime % prime == 0:\n",
    "                    isPrime = False\n",
    "                if isPrime == False or next_prime < prime**2:\n",
    "                    break\n",
    "            if isPrime:\n",
    "                lst.append(next_prime)\n",
    "        next_prime = yield lst, isPrime, next_prime\n",
    "        \n",
    "my_generator = list_of_primes()\n",
    "my_generator.send(None)\n",
    "lst = [2]\n",
    "lastNum = 3\n",
    "while lst[-1] < 500000:\n",
    "    lst, numberWasPrime, lastNum = my_generator.send(lastNum)\n",
    "    #if numberWasPrime:\n",
    "    #    print lst[-1]\n",
    "print 'done'"
   ]
  },
  {
   "cell_type": "code",
   "execution_count": null,
   "metadata": {
    "collapsed": true
   },
   "outputs": [],
   "source": []
  }
 ],
 "metadata": {
  "kernelspec": {
   "display_name": "Python 2",
   "language": "python",
   "name": "python2"
  },
  "language_info": {
   "codemirror_mode": {
    "name": "ipython",
    "version": 2
   },
   "file_extension": ".py",
   "mimetype": "text/x-python",
   "name": "python",
   "nbconvert_exporter": "python",
   "pygments_lexer": "ipython2",
   "version": "2.7.10"
  }
 },
 "nbformat": 4,
 "nbformat_minor": 0
}
