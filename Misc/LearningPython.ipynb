{
 "metadata": {
  "name": ""
 },
 "nbformat": 3,
 "nbformat_minor": 0,
 "worksheets": [
  {
   "cells": [
    {
     "cell_type": "code",
     "collapsed": false,
     "input": [
      "# l will be a list\n",
      "def sumList(l):\n",
      "    sum = 0\n",
      "    for x in l:\n",
      "        sum = sum + x\n",
      "    return sum"
     ],
     "language": "python",
     "metadata": {},
     "outputs": [],
     "prompt_number": 1
    },
    {
     "cell_type": "code",
     "collapsed": false,
     "input": [
      "# testing box\n",
      "l = range(0, 7)\n",
      "print sumList(l)"
     ],
     "language": "python",
     "metadata": {},
     "outputs": [
      {
       "output_type": "stream",
       "stream": "stdout",
       "text": [
        "21\n"
       ]
      }
     ],
     "prompt_number": 7
    },
    {
     "cell_type": "code",
     "collapsed": false,
     "input": [
      "def smooshList(l):\n",
      "    string = ''\n",
      "    for x in l:\n",
      "        string = string + x\n",
      "    return string"
     ],
     "language": "python",
     "metadata": {},
     "outputs": [],
     "prompt_number": 8
    },
    {
     "cell_type": "code",
     "collapsed": false,
     "input": [
      "l = ['H', 'e', 'l', 'l', 'o',]\n",
      "print smooshList(l)"
     ],
     "language": "python",
     "metadata": {},
     "outputs": [
      {
       "output_type": "stream",
       "stream": "stdout",
       "text": [
        "Hello\n"
       ]
      }
     ],
     "prompt_number": 9
    },
    {
     "cell_type": "code",
     "collapsed": false,
     "input": [
      "d = {'key1': ['H', 'e', 'l', 'l', 'o'], 'key2': ['W', 'o', 'r', 'l', 'd']}\n",
      "string = ''\n",
      "string = string + smooshList(d['key1']) + ' '\n",
      "string = string + smooshList(d['key2'])\n",
      "print string"
     ],
     "language": "python",
     "metadata": {},
     "outputs": [
      {
       "output_type": "stream",
       "stream": "stdout",
       "text": [
        "Hello World\n"
       ]
      }
     ],
     "prompt_number": 10
    },
    {
     "cell_type": "code",
     "collapsed": false,
     "input": [
      "d = {}\n",
      "for x in range(1, 27):\n",
      "    d[x] = chr(96 + x)\n",
      "print d"
     ],
     "language": "python",
     "metadata": {},
     "outputs": [
      {
       "output_type": "stream",
       "stream": "stdout",
       "text": [
        "{1: 'a', 2: 'b', 3: 'c', 4: 'd', 5: 'e', 6: 'f', 7: 'g', 8: 'h', 9: 'i', 10: 'j', 11: 'k', 12: 'l', 13: 'm', 14: 'n', 15: 'o', 16: 'p', 17: 'q', 18: 'r', 19: 's', 20: 't', 21: 'u', 22: 'v', 23: 'w', 24: 'x', 25: 'y', 26: 'z'}\n"
       ]
      }
     ],
     "prompt_number": 11
    },
    {
     "cell_type": "code",
     "collapsed": false,
     "input": [
      "def factorial(n):\n",
      "    if n == 0:\n",
      "        return 1\n",
      "    else:\n",
      "        return n * factorial(n - 1)\n",
      "print factorial(3)"
     ],
     "language": "python",
     "metadata": {},
     "outputs": [
      {
       "output_type": "stream",
       "stream": "stdout",
       "text": [
        "6\n"
       ]
      }
     ],
     "prompt_number": 12
    },
    {
     "cell_type": "code",
     "collapsed": false,
     "input": [
      "def factorial_itr(n):\n",
      "    fac = 1\n",
      "    for x in range(1, n + 1):\n",
      "        fac = x * fac\n",
      "    return fac\n",
      "print factorial_itr(4)"
     ],
     "language": "python",
     "metadata": {},
     "outputs": [
      {
       "output_type": "stream",
       "stream": "stdout",
       "text": [
        "24\n"
       ]
      }
     ],
     "prompt_number": 13
    },
    {
     "cell_type": "code",
     "collapsed": false,
     "input": [
      "class ball:\n",
      "    # number = 3\n",
      "    def __init__(self, number=5):\n",
      "        self.number = number\n",
      "    def __str__(self):\n",
      "        string = \"This is a ball object.\"\n",
      "        return string\n",
      "# print ball.number\n",
      "b = ball()\n",
      "print b.number\n",
      "ball.number = 7\n",
      "print ball.number\n",
      "print ball\n",
      "print b"
     ],
     "language": "python",
     "metadata": {},
     "outputs": [
      {
       "output_type": "stream",
       "stream": "stdout",
       "text": [
        "5\n",
        "7\n",
        "__main__.ball\n",
        "This is a ball object.\n"
       ]
      }
     ],
     "prompt_number": 14
    },
    {
     "cell_type": "code",
     "collapsed": false,
     "input": [
      "# Is the only way to define a variable to instantiate it?\n",
      "# What is going on with ball up there?\n",
      "# Doesn't bouncyBall inherit number?\n",
      "class bouncyBall(ball):\n",
      "    3\n",
      "#     def __init__(self, bounciness = 3):\n",
      "#         #self.number = number\n",
      "#         self.bounciness = bounciness\n",
      "b = bouncyBall()\n",
      "b.bouncyness = 7\n",
      "print b.number, b.bouncyness"
     ],
     "language": "python",
     "metadata": {},
     "outputs": [
      {
       "output_type": "stream",
       "stream": "stdout",
       "text": [
        "5 7\n"
       ]
      }
     ],
     "prompt_number": 15
    },
    {
     "cell_type": "code",
     "collapsed": false,
     "input": [
      "list = [2]\n",
      "num = 1000000\n",
      "for x in range(3, num):\n",
      "    if num % list[-1] == 0:\n",
      "        break\n",
      "    isPrime = True\n",
      "    if isPrime == True:\n",
      "        for prime in list:\n",
      "            if x % prime == 0:\n",
      "                isPrime = False\n",
      "            if isPrime == False or x < prime**2:\n",
      "                break\n",
      "        if isPrime:\n",
      "            list.append(x)"
     ],
     "language": "python",
     "metadata": {},
     "outputs": [],
     "prompt_number": 16
    },
    {
     "cell_type": "code",
     "collapsed": false,
     "input": [
      "def list_of_primes():\n",
      "    lst = [2, 3]\n",
      "    print 2\n",
      "    print 3\n",
      "    next_prime = 3\n",
      "    while True:\n",
      "        next_prime += 2\n",
      "        isPrime = True\n",
      "        if isPrime == True:\n",
      "            for prime in lst:\n",
      "                if next_prime % prime == 0:\n",
      "                    isPrime = False\n",
      "                if isPrime == False or next_prime < prime**2:\n",
      "                    break\n",
      "            if isPrime:\n",
      "                lst.append(next_prime)\n",
      "        next_prime = yield lst, isPrime, next_prime\n",
      "        \n",
      "my_generator = list_of_primes()\n",
      "my_generator.send(None)\n",
      "lst = [2]\n",
      "lastNum = 3\n",
      "while lst[-1] < 500000:\n",
      "    lst, numberWasPrime, lastNum = my_generator.send(lastNum)\n",
      "    #if numberWasPrime:\n",
      "    #    print lst[-1]\n",
      "print 'done'"
     ],
     "language": "python",
     "metadata": {},
     "outputs": [
      {
       "output_type": "stream",
       "stream": "stdout",
       "text": [
        "2\n",
        "3\n",
        "done"
       ]
      },
      {
       "output_type": "stream",
       "stream": "stdout",
       "text": [
        "\n"
       ]
      }
     ],
     "prompt_number": 17
    },
    {
     "cell_type": "code",
     "collapsed": false,
     "input": [
      "import os\n",
      "path = '../mapping/csv'\n",
      "file_name = 'aisdata.csv'\n",
      "with open(os.path.join(path, file_name), 'r') as csv_file:\n",
      "    csv_file.read()"
     ],
     "language": "python",
     "metadata": {},
     "outputs": [],
     "prompt_number": 1
    }
   ],
   "metadata": {}
  }
 ]
}