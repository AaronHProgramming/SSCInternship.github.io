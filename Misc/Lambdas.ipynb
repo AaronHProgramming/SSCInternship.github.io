{
 "metadata": {
  "name": ""
 },
 "nbformat": 3,
 "nbformat_minor": 0,
 "worksheets": [
  {
   "cells": [
    {
     "cell_type": "code",
     "collapsed": false,
     "input": [
      "import math\n",
      "def maxPal(num):\n",
      "    x, y = num, num\n",
      "    maxP = 0\n",
      "    while y >= 0:\n",
      "        x = num\n",
      "        while x >= y:\n",
      "            s = str(x * y)\n",
      "            if s == s[::-1]:\n",
      "                maxP = max((maxP, x*y))\n",
      "            x = x - 1\n",
      "        y = y - 1\n",
      "    return maxP\n",
      "maxPal(1000)\n",
      "# math.sqrt(max(maxP))"
     ],
     "language": "python",
     "metadata": {},
     "outputs": [
      {
       "metadata": {},
       "output_type": "pyout",
       "prompt_number": 40,
       "text": [
        "906609"
       ]
      }
     ],
     "prompt_number": 40
    },
    {
     "cell_type": "code",
     "collapsed": false,
     "input": [
      "import math\n",
      "def maxPal(num):\n",
      "    x, y = num, num\n",
      "    maxP = 0\n",
      "    while y >= math.sqrt(maxP):\n",
      "        x = num\n",
      "        while x >= 0:\n",
      "            s = str(x * y)\n",
      "            if s == s[::-1]:\n",
      "                maxP = max((maxP, x*y))\n",
      "            x = x - 1\n",
      "        y = y - 1\n",
      "    return maxP\n",
      "maxPal(1000)"
     ],
     "language": "python",
     "metadata": {},
     "outputs": [
      {
       "metadata": {},
       "output_type": "pyout",
       "prompt_number": 52,
       "text": [
        "906609"
       ]
      }
     ],
     "prompt_number": 52
    },
    {
     "cell_type": "code",
     "collapsed": false,
     "input": [
      "import sys\n",
      "sys.path.append('../ProjectEuler/')\n",
      "from euler import euler1\n",
      "#euler1\n"
     ],
     "language": "python",
     "metadata": {},
     "outputs": [
      {
       "output_type": "stream",
       "stream": "stdout",
       "text": [
        "3\n"
       ]
      }
     ],
     "prompt_number": 60
    },
    {
     "cell_type": "code",
     "collapsed": false,
     "input": [
      "def func(y):\n",
      "    return lambda x: \"Hello\"\n",
      "print func(3)"
     ],
     "language": "python",
     "metadata": {},
     "outputs": [
      {
       "output_type": "stream",
       "stream": "stdout",
       "text": [
        "<function <lambda> at 0x7fe199647500>\n"
       ]
      }
     ],
     "prompt_number": 3
    },
    {
     "cell_type": "code",
     "collapsed": false,
     "input": [
      "import time\n",
      "\n",
      "lst = range(3000000)\n",
      "t = time.time()\n",
      "def add1(num):\n",
      "    return num + 1\n",
      "map(add1, lst)\n",
      "print time.time() - t\n",
      "t = time.time()\n",
      "for x in lst:\n",
      "    lst[x] += 2\n",
      "print time.time() - t\n"
     ],
     "language": "python",
     "metadata": {},
     "outputs": [
      {
       "output_type": "stream",
       "stream": "stdout",
       "text": [
        "0.585288047791\n",
        "0.511245965958"
       ]
      },
      {
       "output_type": "stream",
       "stream": "stdout",
       "text": [
        "\n"
       ]
      }
     ],
     "prompt_number": 4
    },
    {
     "cell_type": "code",
     "collapsed": false,
     "input": [
      "import numpy as np\n",
      "import time\n",
      "l = np.full((500, 500), 1)\n",
      "t = time.time()\n",
      "def double(n):\n",
      "    return n * 2\n",
      "l = map(double, l)\n",
      "\n",
      "print time.time() - t\n",
      "t = time.time()\n",
      "for x in range(len(l)):\n",
      "    for y in range(len(l[0])):\n",
      "        l[x][y] *= 2\n",
      "print time.time() - t\n"
     ],
     "language": "python",
     "metadata": {},
     "outputs": [
      {
       "output_type": "stream",
       "stream": "stdout",
       "text": [
        "0.00514698028564\n",
        "0.36404800415"
       ]
      },
      {
       "output_type": "stream",
       "stream": "stdout",
       "text": [
        "\n"
       ]
      }
     ],
     "prompt_number": 14
    },
    {
     "cell_type": "code",
     "collapsed": false,
     "input": [
      "def my_map(func, data):\n",
      "    g = lambda x: func(x)\n",
      "    for y in data:\n",
      "        print g(y)"
     ],
     "language": "python",
     "metadata": {},
     "outputs": [],
     "prompt_number": 7
    },
    {
     "cell_type": "code",
     "collapsed": false,
     "input": [
      "l = [x for x in range(10)]\n",
      "def square(x):\n",
      "    return x**2\n",
      "my_map(square, l)"
     ],
     "language": "python",
     "metadata": {},
     "outputs": [
      {
       "output_type": "stream",
       "stream": "stdout",
       "text": [
        "0\n",
        "1\n",
        "4\n",
        "9\n",
        "16\n",
        "25\n",
        "36\n",
        "49\n",
        "64\n",
        "81\n"
       ]
      }
     ],
     "prompt_number": 8
    },
    {
     "cell_type": "code",
     "collapsed": false,
     "input": [],
     "language": "python",
     "metadata": {},
     "outputs": []
    }
   ],
   "metadata": {}
  }
 ]
}