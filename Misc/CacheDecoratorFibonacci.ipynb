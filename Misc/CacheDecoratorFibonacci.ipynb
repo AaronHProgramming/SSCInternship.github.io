{
 "metadata": {
  "name": ""
 },
 "nbformat": 3,
 "nbformat_minor": 0,
 "worksheets": [
  {
   "cells": [
    {
     "cell_type": "code",
     "collapsed": false,
     "input": [
      "def memoize(f):\n",
      "    cache = {}\n",
      "    def decorated_func(*args):\n",
      "        # print('args:',args)   no additional args were used but they would be supported if they were\n",
      "        if args in cache:\n",
      "            # print(cache[args])\n",
      "            return cache[args]\n",
      "        else:\n",
      "            cache[args] = f(*args)\n",
      "            return cache[args]\n",
      "    return decorated_func"
     ],
     "language": "python",
     "metadata": {},
     "outputs": [],
     "prompt_number": 1
    },
    {
     "cell_type": "code",
     "collapsed": false,
     "input": [
      "@memoize\n",
      "def fib(n, m):\n",
      "    j = m\n",
      "    return n if n < 2 else fib(n-1, j) + fib(n-2, j)"
     ],
     "language": "python",
     "metadata": {},
     "outputs": [],
     "prompt_number": 2
    },
    {
     "cell_type": "code",
     "collapsed": false,
     "input": [
      "cache = {}\n",
      "def fib_c(n):\n",
      "    if n in cache:\n",
      "        return cache[n]\n",
      "    else:\n",
      "        cache[n] = n if n < 2 else fib_c(n-1) + fib_c(n-2)\n",
      "        return cache[n]"
     ],
     "language": "python",
     "metadata": {},
     "outputs": [],
     "prompt_number": 4
    },
    {
     "cell_type": "code",
     "collapsed": false,
     "input": [
      "def fib_iter(n):\n",
      "    a, b = 1, 1\n",
      "    for i in range(n):\n",
      "        a, b = b, a + b\n",
      "    return a"
     ],
     "language": "python",
     "metadata": {},
     "outputs": [],
     "prompt_number": 5
    },
    {
     "cell_type": "code",
     "collapsed": false,
     "input": [
      "import time\n",
      "n=60\n",
      "\n",
      "# Compares time to run diff fib methods\n",
      "# time.time() returns the current time\n",
      "\n",
      "tic = time.time()\n",
      "print(fib_c(n))\n",
      "print(time.time()-tic)\n",
      "\n",
      "tic = time.time()\n",
      "print(fib_iter(n-1))\n",
      "print(time.time()-tic)\n",
      "\n",
      "tic = time.time()\n",
      "print(fib(n, 0))\n",
      "print(time.time()-tic)"
     ],
     "language": "python",
     "metadata": {},
     "outputs": [
      {
       "output_type": "stream",
       "stream": "stdout",
       "text": [
        "1548008755920\n",
        "0.000123023986816\n",
        "1548008755920\n",
        "0.000119924545288\n",
        "1548008755920\n",
        "0.0001060962677\n"
       ]
      }
     ],
     "prompt_number": 8
    },
    {
     "cell_type": "code",
     "collapsed": false,
     "input": [
      "s = '2015-06-09 08:27:55'\n",
      "from datetime import datetime\n",
      "# retell it how to present the str\n",
      "d=datetime.strptime(s, '%Y-%m-%d %H:%M:%S')\n",
      "print(d)"
     ],
     "language": "python",
     "metadata": {},
     "outputs": [
      {
       "output_type": "stream",
       "stream": "stdout",
       "text": [
        "2015-06-09 08:27:55\n"
       ]
      }
     ],
     "prompt_number": 9
    },
    {
     "cell_type": "code",
     "collapsed": false,
     "input": [],
     "language": "python",
     "metadata": {},
     "outputs": []
    }
   ],
   "metadata": {}
  }
 ]
}